{
 "cells": [
  {
   "cell_type": "markdown",
   "id": "20b5b8dd",
   "metadata": {},
   "source": [
    "### Import findspark"
   ]
  },
  {
   "cell_type": "code",
   "execution_count": 75,
   "id": "86667a0e",
   "metadata": {},
   "outputs": [],
   "source": [
    "import findspark\n",
    "findspark.init()"
   ]
  },
  {
   "cell_type": "markdown",
   "id": "b7a36dee",
   "metadata": {},
   "source": [
    "### Create Spark Session"
   ]
  },
  {
   "cell_type": "code",
   "execution_count": 76,
   "id": "ab9dbcd5",
   "metadata": {},
   "outputs": [],
   "source": [
    "from pyspark.sql import SparkSession\n",
    "spark = SparkSession.builder.master(\"local[1]\").getOrCreate()"
   ]
  },
  {
   "cell_type": "markdown",
   "id": "0b242ab9",
   "metadata": {},
   "source": [
    "### Import pySpark "
   ]
  },
  {
   "cell_type": "code",
   "execution_count": 77,
   "id": "4dffa28a",
   "metadata": {},
   "outputs": [],
   "source": [
    "from pyspark.sql.types import LongType, StringType, StructField, StructType, BooleanType, ArrayType, IntegerType, DoubleType"
   ]
  },
  {
   "cell_type": "markdown",
   "id": "b1dffb4f",
   "metadata": {},
   "source": [
    "### Initialize schema of the DB to be read"
   ]
  },
  {
   "cell_type": "code",
   "execution_count": 78,
   "id": "21094e1f",
   "metadata": {},
   "outputs": [],
   "source": [
    "customSchema = StructType([\n",
    "    StructField(\"total_bill\", DoubleType(), True),\n",
    "    StructField(\"tip\", DoubleType(), True),\n",
    "    StructField(\"sex\", StringType(), True),\n",
    "    StructField(\"smoker\", StringType(), True),\n",
    "    StructField(\"day\", StringType(), True),\n",
    "    StructField(\"time\", StringType(), True),\n",
    "    StructField(\"size\", IntegerType(), True)\n",
    "])"
   ]
  },
  {
   "cell_type": "markdown",
   "id": "ef16bae1",
   "metadata": {},
   "source": [
    "### Read CSV"
   ]
  },
  {
   "cell_type": "code",
   "execution_count": 79,
   "id": "245ce2e3",
   "metadata": {},
   "outputs": [],
   "source": [
    "df_pyspark = spark.read.option('header', 'true').csv(r'file:///C:/Users/mateusz.baczewski/Downloads/tips.csv', schema = customSchema)"
   ]
  },
  {
   "cell_type": "code",
   "execution_count": 80,
   "id": "d5120d2a",
   "metadata": {},
   "outputs": [
    {
     "name": "stdout",
     "output_type": "stream",
     "text": [
      "+----------+----+------+------+---+------+----+\n",
      "|total_bill| tip|   sex|smoker|day|  time|size|\n",
      "+----------+----+------+------+---+------+----+\n",
      "|     16.99|1.01|Female|    No|Sun|Dinner|   2|\n",
      "|     10.34|1.66|  Male|    No|Sun|Dinner|   3|\n",
      "|     21.01| 3.5|  Male|    No|Sun|Dinner|   3|\n",
      "|     23.68|3.31|  Male|    No|Sun|Dinner|   2|\n",
      "|     24.59|3.61|Female|    No|Sun|Dinner|   4|\n",
      "|     25.29|4.71|  Male|    No|Sun|Dinner|   4|\n",
      "|      8.77| 2.0|  Male|    No|Sun|Dinner|   2|\n",
      "|     26.88|3.12|  Male|    No|Sun|Dinner|   4|\n",
      "|     15.04|1.96|  Male|    No|Sun|Dinner|   2|\n",
      "|     14.78|3.23|  Male|    No|Sun|Dinner|   2|\n",
      "|     10.27|1.71|  Male|    No|Sun|Dinner|   2|\n",
      "|     35.26| 5.0|Female|    No|Sun|Dinner|   4|\n",
      "|     15.42|1.57|  Male|    No|Sun|Dinner|   2|\n",
      "|     18.43| 3.0|  Male|    No|Sun|Dinner|   4|\n",
      "|     14.83|3.02|Female|    No|Sun|Dinner|   2|\n",
      "|     21.58|3.92|  Male|    No|Sun|Dinner|   2|\n",
      "|     10.33|1.67|Female|    No|Sun|Dinner|   3|\n",
      "|     16.29|3.71|  Male|    No|Sun|Dinner|   3|\n",
      "|     16.97| 3.5|Female|    No|Sun|Dinner|   3|\n",
      "|     20.65|3.35|  Male|    No|Sat|Dinner|   3|\n",
      "+----------+----+------+------+---+------+----+\n",
      "only showing top 20 rows\n",
      "\n"
     ]
    }
   ],
   "source": [
    "df_pyspark.show()"
   ]
  },
  {
   "cell_type": "code",
   "execution_count": 81,
   "id": "de4323e1",
   "metadata": {},
   "outputs": [
    {
     "name": "stdout",
     "output_type": "stream",
     "text": [
      "root\n",
      " |-- total_bill: double (nullable = true)\n",
      " |-- tip: double (nullable = true)\n",
      " |-- sex: string (nullable = true)\n",
      " |-- smoker: string (nullable = true)\n",
      " |-- day: string (nullable = true)\n",
      " |-- time: string (nullable = true)\n",
      " |-- size: integer (nullable = true)\n",
      "\n"
     ]
    }
   ],
   "source": [
    "df_pyspark.printSchema()"
   ]
  },
  {
   "cell_type": "code",
   "execution_count": 82,
   "id": "33475429",
   "metadata": {},
   "outputs": [
    {
     "data": {
      "text/plain": [
       "[Row(total_bill=16.99, tip=1.01, sex='Female', smoker='No', day='Sun', time='Dinner', size=2),\n",
       " Row(total_bill=10.34, tip=1.66, sex='Male', smoker='No', day='Sun', time='Dinner', size=3),\n",
       " Row(total_bill=21.01, tip=3.5, sex='Male', smoker='No', day='Sun', time='Dinner', size=3),\n",
       " Row(total_bill=23.68, tip=3.31, sex='Male', smoker='No', day='Sun', time='Dinner', size=2),\n",
       " Row(total_bill=24.59, tip=3.61, sex='Female', smoker='No', day='Sun', time='Dinner', size=4)]"
      ]
     },
     "execution_count": 82,
     "metadata": {},
     "output_type": "execute_result"
    }
   ],
   "source": [
    "df_pyspark.head(5)"
   ]
  },
  {
   "cell_type": "markdown",
   "id": "b4c59d6a",
   "metadata": {},
   "source": [
    "Do not use collect on large scale datasets as collect retrieves all of the existing entries."
   ]
  },
  {
   "cell_type": "code",
   "execution_count": 83,
   "id": "80409d56",
   "metadata": {},
   "outputs": [
    {
     "data": {
      "text/plain": [
       "[Row(total_bill=16.99, tip=1.01, sex='Female', smoker='No', day='Sun', time='Dinner', size=2),\n",
       " Row(total_bill=10.34, tip=1.66, sex='Male', smoker='No', day='Sun', time='Dinner', size=3),\n",
       " Row(total_bill=21.01, tip=3.5, sex='Male', smoker='No', day='Sun', time='Dinner', size=3),\n",
       " Row(total_bill=23.68, tip=3.31, sex='Male', smoker='No', day='Sun', time='Dinner', size=2),\n",
       " Row(total_bill=24.59, tip=3.61, sex='Female', smoker='No', day='Sun', time='Dinner', size=4),\n",
       " Row(total_bill=25.29, tip=4.71, sex='Male', smoker='No', day='Sun', time='Dinner', size=4),\n",
       " Row(total_bill=8.77, tip=2.0, sex='Male', smoker='No', day='Sun', time='Dinner', size=2),\n",
       " Row(total_bill=26.88, tip=3.12, sex='Male', smoker='No', day='Sun', time='Dinner', size=4),\n",
       " Row(total_bill=15.04, tip=1.96, sex='Male', smoker='No', day='Sun', time='Dinner', size=2),\n",
       " Row(total_bill=14.78, tip=3.23, sex='Male', smoker='No', day='Sun', time='Dinner', size=2),\n",
       " Row(total_bill=10.27, tip=1.71, sex='Male', smoker='No', day='Sun', time='Dinner', size=2),\n",
       " Row(total_bill=35.26, tip=5.0, sex='Female', smoker='No', day='Sun', time='Dinner', size=4),\n",
       " Row(total_bill=15.42, tip=1.57, sex='Male', smoker='No', day='Sun', time='Dinner', size=2),\n",
       " Row(total_bill=18.43, tip=3.0, sex='Male', smoker='No', day='Sun', time='Dinner', size=4),\n",
       " Row(total_bill=14.83, tip=3.02, sex='Female', smoker='No', day='Sun', time='Dinner', size=2),\n",
       " Row(total_bill=21.58, tip=3.92, sex='Male', smoker='No', day='Sun', time='Dinner', size=2),\n",
       " Row(total_bill=10.33, tip=1.67, sex='Female', smoker='No', day='Sun', time='Dinner', size=3),\n",
       " Row(total_bill=16.29, tip=3.71, sex='Male', smoker='No', day='Sun', time='Dinner', size=3),\n",
       " Row(total_bill=16.97, tip=3.5, sex='Female', smoker='No', day='Sun', time='Dinner', size=3),\n",
       " Row(total_bill=20.65, tip=3.35, sex='Male', smoker='No', day='Sat', time='Dinner', size=3),\n",
       " Row(total_bill=17.92, tip=4.08, sex='Male', smoker='No', day='Sat', time='Dinner', size=2),\n",
       " Row(total_bill=20.29, tip=2.75, sex='Female', smoker='No', day='Sat', time='Dinner', size=2),\n",
       " Row(total_bill=15.77, tip=2.23, sex='Female', smoker='No', day='Sat', time='Dinner', size=2),\n",
       " Row(total_bill=39.42, tip=7.58, sex='Male', smoker='No', day='Sat', time='Dinner', size=4),\n",
       " Row(total_bill=19.82, tip=3.18, sex='Male', smoker='No', day='Sat', time='Dinner', size=2),\n",
       " Row(total_bill=17.81, tip=2.34, sex='Male', smoker='No', day='Sat', time='Dinner', size=4),\n",
       " Row(total_bill=13.37, tip=2.0, sex='Male', smoker='No', day='Sat', time='Dinner', size=2),\n",
       " Row(total_bill=12.69, tip=2.0, sex='Male', smoker='No', day='Sat', time='Dinner', size=2),\n",
       " Row(total_bill=21.7, tip=4.3, sex='Male', smoker='No', day='Sat', time='Dinner', size=2),\n",
       " Row(total_bill=19.65, tip=3.0, sex='Female', smoker='No', day='Sat', time='Dinner', size=2),\n",
       " Row(total_bill=9.55, tip=1.45, sex='Male', smoker='No', day='Sat', time='Dinner', size=2),\n",
       " Row(total_bill=18.35, tip=2.5, sex='Male', smoker='No', day='Sat', time='Dinner', size=4),\n",
       " Row(total_bill=15.06, tip=3.0, sex='Female', smoker='No', day='Sat', time='Dinner', size=2),\n",
       " Row(total_bill=20.69, tip=2.45, sex='Female', smoker='No', day='Sat', time='Dinner', size=4),\n",
       " Row(total_bill=17.78, tip=3.27, sex='Male', smoker='No', day='Sat', time='Dinner', size=2),\n",
       " Row(total_bill=24.06, tip=3.6, sex='Male', smoker='No', day='Sat', time='Dinner', size=3),\n",
       " Row(total_bill=16.31, tip=2.0, sex='Male', smoker='No', day='Sat', time='Dinner', size=3),\n",
       " Row(total_bill=16.93, tip=3.07, sex='Female', smoker='No', day='Sat', time='Dinner', size=3),\n",
       " Row(total_bill=18.69, tip=2.31, sex='Male', smoker='No', day='Sat', time='Dinner', size=3),\n",
       " Row(total_bill=31.27, tip=5.0, sex='Male', smoker='No', day='Sat', time='Dinner', size=3),\n",
       " Row(total_bill=16.04, tip=2.24, sex='Male', smoker='No', day='Sat', time='Dinner', size=3),\n",
       " Row(total_bill=17.46, tip=2.54, sex='Male', smoker='No', day='Sun', time='Dinner', size=2),\n",
       " Row(total_bill=13.94, tip=3.06, sex='Male', smoker='No', day='Sun', time='Dinner', size=2),\n",
       " Row(total_bill=9.68, tip=1.32, sex='Male', smoker='No', day='Sun', time='Dinner', size=2),\n",
       " Row(total_bill=30.4, tip=5.6, sex='Male', smoker='No', day='Sun', time='Dinner', size=4),\n",
       " Row(total_bill=18.29, tip=3.0, sex='Male', smoker='No', day='Sun', time='Dinner', size=2),\n",
       " Row(total_bill=22.23, tip=5.0, sex='Male', smoker='No', day='Sun', time='Dinner', size=2),\n",
       " Row(total_bill=32.4, tip=6.0, sex='Male', smoker='No', day='Sun', time='Dinner', size=4),\n",
       " Row(total_bill=28.55, tip=2.05, sex='Male', smoker='No', day='Sun', time='Dinner', size=3),\n",
       " Row(total_bill=18.04, tip=3.0, sex='Male', smoker='No', day='Sun', time='Dinner', size=2),\n",
       " Row(total_bill=12.54, tip=2.5, sex='Male', smoker='No', day='Sun', time='Dinner', size=2),\n",
       " Row(total_bill=10.29, tip=2.6, sex='Female', smoker='No', day='Sun', time='Dinner', size=2),\n",
       " Row(total_bill=34.81, tip=5.2, sex='Female', smoker='No', day='Sun', time='Dinner', size=4),\n",
       " Row(total_bill=9.94, tip=1.56, sex='Male', smoker='No', day='Sun', time='Dinner', size=2),\n",
       " Row(total_bill=25.56, tip=4.34, sex='Male', smoker='No', day='Sun', time='Dinner', size=4),\n",
       " Row(total_bill=19.49, tip=3.51, sex='Male', smoker='No', day='Sun', time='Dinner', size=2),\n",
       " Row(total_bill=38.01, tip=3.0, sex='Male', smoker='Yes', day='Sat', time='Dinner', size=4),\n",
       " Row(total_bill=26.41, tip=1.5, sex='Female', smoker='No', day='Sat', time='Dinner', size=2),\n",
       " Row(total_bill=11.24, tip=1.76, sex='Male', smoker='Yes', day='Sat', time='Dinner', size=2),\n",
       " Row(total_bill=48.27, tip=6.73, sex='Male', smoker='No', day='Sat', time='Dinner', size=4),\n",
       " Row(total_bill=20.29, tip=3.21, sex='Male', smoker='Yes', day='Sat', time='Dinner', size=2),\n",
       " Row(total_bill=13.81, tip=2.0, sex='Male', smoker='Yes', day='Sat', time='Dinner', size=2),\n",
       " Row(total_bill=11.02, tip=1.98, sex='Male', smoker='Yes', day='Sat', time='Dinner', size=2),\n",
       " Row(total_bill=18.29, tip=3.76, sex='Male', smoker='Yes', day='Sat', time='Dinner', size=4),\n",
       " Row(total_bill=17.59, tip=2.64, sex='Male', smoker='No', day='Sat', time='Dinner', size=3),\n",
       " Row(total_bill=20.08, tip=3.15, sex='Male', smoker='No', day='Sat', time='Dinner', size=3),\n",
       " Row(total_bill=16.45, tip=2.47, sex='Female', smoker='No', day='Sat', time='Dinner', size=2),\n",
       " Row(total_bill=3.07, tip=1.0, sex='Female', smoker='Yes', day='Sat', time='Dinner', size=1),\n",
       " Row(total_bill=20.23, tip=2.01, sex='Male', smoker='No', day='Sat', time='Dinner', size=2),\n",
       " Row(total_bill=15.01, tip=2.09, sex='Male', smoker='Yes', day='Sat', time='Dinner', size=2),\n",
       " Row(total_bill=12.02, tip=1.97, sex='Male', smoker='No', day='Sat', time='Dinner', size=2),\n",
       " Row(total_bill=17.07, tip=3.0, sex='Female', smoker='No', day='Sat', time='Dinner', size=3),\n",
       " Row(total_bill=26.86, tip=3.14, sex='Female', smoker='Yes', day='Sat', time='Dinner', size=2),\n",
       " Row(total_bill=25.28, tip=5.0, sex='Female', smoker='Yes', day='Sat', time='Dinner', size=2),\n",
       " Row(total_bill=14.73, tip=2.2, sex='Female', smoker='No', day='Sat', time='Dinner', size=2),\n",
       " Row(total_bill=10.51, tip=1.25, sex='Male', smoker='No', day='Sat', time='Dinner', size=2),\n",
       " Row(total_bill=17.92, tip=3.08, sex='Male', smoker='Yes', day='Sat', time='Dinner', size=2),\n",
       " Row(total_bill=27.2, tip=4.0, sex='Male', smoker='No', day='Thur', time='Lunch', size=4),\n",
       " Row(total_bill=22.76, tip=3.0, sex='Male', smoker='No', day='Thur', time='Lunch', size=2),\n",
       " Row(total_bill=17.29, tip=2.71, sex='Male', smoker='No', day='Thur', time='Lunch', size=2),\n",
       " Row(total_bill=19.44, tip=3.0, sex='Male', smoker='Yes', day='Thur', time='Lunch', size=2),\n",
       " Row(total_bill=16.66, tip=3.4, sex='Male', smoker='No', day='Thur', time='Lunch', size=2),\n",
       " Row(total_bill=10.07, tip=1.83, sex='Female', smoker='No', day='Thur', time='Lunch', size=1),\n",
       " Row(total_bill=32.68, tip=5.0, sex='Male', smoker='Yes', day='Thur', time='Lunch', size=2),\n",
       " Row(total_bill=15.98, tip=2.03, sex='Male', smoker='No', day='Thur', time='Lunch', size=2),\n",
       " Row(total_bill=34.83, tip=5.17, sex='Female', smoker='No', day='Thur', time='Lunch', size=4),\n",
       " Row(total_bill=13.03, tip=2.0, sex='Male', smoker='No', day='Thur', time='Lunch', size=2),\n",
       " Row(total_bill=18.28, tip=4.0, sex='Male', smoker='No', day='Thur', time='Lunch', size=2),\n",
       " Row(total_bill=24.71, tip=5.85, sex='Male', smoker='No', day='Thur', time='Lunch', size=2),\n",
       " Row(total_bill=21.16, tip=3.0, sex='Male', smoker='No', day='Thur', time='Lunch', size=2),\n",
       " Row(total_bill=28.97, tip=3.0, sex='Male', smoker='Yes', day='Fri', time='Dinner', size=2),\n",
       " Row(total_bill=22.49, tip=3.5, sex='Male', smoker='No', day='Fri', time='Dinner', size=2),\n",
       " Row(total_bill=5.75, tip=1.0, sex='Female', smoker='Yes', day='Fri', time='Dinner', size=2),\n",
       " Row(total_bill=16.32, tip=4.3, sex='Female', smoker='Yes', day='Fri', time='Dinner', size=2),\n",
       " Row(total_bill=22.75, tip=3.25, sex='Female', smoker='No', day='Fri', time='Dinner', size=2),\n",
       " Row(total_bill=40.17, tip=4.73, sex='Male', smoker='Yes', day='Fri', time='Dinner', size=4),\n",
       " Row(total_bill=27.28, tip=4.0, sex='Male', smoker='Yes', day='Fri', time='Dinner', size=2),\n",
       " Row(total_bill=12.03, tip=1.5, sex='Male', smoker='Yes', day='Fri', time='Dinner', size=2),\n",
       " Row(total_bill=21.01, tip=3.0, sex='Male', smoker='Yes', day='Fri', time='Dinner', size=2),\n",
       " Row(total_bill=12.46, tip=1.5, sex='Male', smoker='No', day='Fri', time='Dinner', size=2),\n",
       " Row(total_bill=11.35, tip=2.5, sex='Female', smoker='Yes', day='Fri', time='Dinner', size=2),\n",
       " Row(total_bill=15.38, tip=3.0, sex='Female', smoker='Yes', day='Fri', time='Dinner', size=2),\n",
       " Row(total_bill=44.3, tip=2.5, sex='Female', smoker='Yes', day='Sat', time='Dinner', size=3),\n",
       " Row(total_bill=22.42, tip=3.48, sex='Female', smoker='Yes', day='Sat', time='Dinner', size=2),\n",
       " Row(total_bill=20.92, tip=4.08, sex='Female', smoker='No', day='Sat', time='Dinner', size=2),\n",
       " Row(total_bill=15.36, tip=1.64, sex='Male', smoker='Yes', day='Sat', time='Dinner', size=2),\n",
       " Row(total_bill=20.49, tip=4.06, sex='Male', smoker='Yes', day='Sat', time='Dinner', size=2),\n",
       " Row(total_bill=25.21, tip=4.29, sex='Male', smoker='Yes', day='Sat', time='Dinner', size=2),\n",
       " Row(total_bill=18.24, tip=3.76, sex='Male', smoker='No', day='Sat', time='Dinner', size=2),\n",
       " Row(total_bill=14.31, tip=4.0, sex='Female', smoker='Yes', day='Sat', time='Dinner', size=2),\n",
       " Row(total_bill=14.0, tip=3.0, sex='Male', smoker='No', day='Sat', time='Dinner', size=2),\n",
       " Row(total_bill=7.25, tip=1.0, sex='Female', smoker='No', day='Sat', time='Dinner', size=1),\n",
       " Row(total_bill=38.07, tip=4.0, sex='Male', smoker='No', day='Sun', time='Dinner', size=3),\n",
       " Row(total_bill=23.95, tip=2.55, sex='Male', smoker='No', day='Sun', time='Dinner', size=2),\n",
       " Row(total_bill=25.71, tip=4.0, sex='Female', smoker='No', day='Sun', time='Dinner', size=3),\n",
       " Row(total_bill=17.31, tip=3.5, sex='Female', smoker='No', day='Sun', time='Dinner', size=2),\n",
       " Row(total_bill=29.93, tip=5.07, sex='Male', smoker='No', day='Sun', time='Dinner', size=4),\n",
       " Row(total_bill=10.65, tip=1.5, sex='Female', smoker='No', day='Thur', time='Lunch', size=2),\n",
       " Row(total_bill=12.43, tip=1.8, sex='Female', smoker='No', day='Thur', time='Lunch', size=2),\n",
       " Row(total_bill=24.08, tip=2.92, sex='Female', smoker='No', day='Thur', time='Lunch', size=4),\n",
       " Row(total_bill=11.69, tip=2.31, sex='Male', smoker='No', day='Thur', time='Lunch', size=2),\n",
       " Row(total_bill=13.42, tip=1.68, sex='Female', smoker='No', day='Thur', time='Lunch', size=2),\n",
       " Row(total_bill=14.26, tip=2.5, sex='Male', smoker='No', day='Thur', time='Lunch', size=2),\n",
       " Row(total_bill=15.95, tip=2.0, sex='Male', smoker='No', day='Thur', time='Lunch', size=2),\n",
       " Row(total_bill=12.48, tip=2.52, sex='Female', smoker='No', day='Thur', time='Lunch', size=2),\n",
       " Row(total_bill=29.8, tip=4.2, sex='Female', smoker='No', day='Thur', time='Lunch', size=6),\n",
       " Row(total_bill=8.52, tip=1.48, sex='Male', smoker='No', day='Thur', time='Lunch', size=2),\n",
       " Row(total_bill=14.52, tip=2.0, sex='Female', smoker='No', day='Thur', time='Lunch', size=2),\n",
       " Row(total_bill=11.38, tip=2.0, sex='Female', smoker='No', day='Thur', time='Lunch', size=2),\n",
       " Row(total_bill=22.82, tip=2.18, sex='Male', smoker='No', day='Thur', time='Lunch', size=3),\n",
       " Row(total_bill=19.08, tip=1.5, sex='Male', smoker='No', day='Thur', time='Lunch', size=2),\n",
       " Row(total_bill=20.27, tip=2.83, sex='Female', smoker='No', day='Thur', time='Lunch', size=2),\n",
       " Row(total_bill=11.17, tip=1.5, sex='Female', smoker='No', day='Thur', time='Lunch', size=2),\n",
       " Row(total_bill=12.26, tip=2.0, sex='Female', smoker='No', day='Thur', time='Lunch', size=2),\n",
       " Row(total_bill=18.26, tip=3.25, sex='Female', smoker='No', day='Thur', time='Lunch', size=2),\n",
       " Row(total_bill=8.51, tip=1.25, sex='Female', smoker='No', day='Thur', time='Lunch', size=2),\n",
       " Row(total_bill=10.33, tip=2.0, sex='Female', smoker='No', day='Thur', time='Lunch', size=2),\n",
       " Row(total_bill=14.15, tip=2.0, sex='Female', smoker='No', day='Thur', time='Lunch', size=2),\n",
       " Row(total_bill=16.0, tip=2.0, sex='Male', smoker='Yes', day='Thur', time='Lunch', size=2),\n",
       " Row(total_bill=13.16, tip=2.75, sex='Female', smoker='No', day='Thur', time='Lunch', size=2),\n",
       " Row(total_bill=17.47, tip=3.5, sex='Female', smoker='No', day='Thur', time='Lunch', size=2),\n",
       " Row(total_bill=34.3, tip=6.7, sex='Male', smoker='No', day='Thur', time='Lunch', size=6),\n",
       " Row(total_bill=41.19, tip=5.0, sex='Male', smoker='No', day='Thur', time='Lunch', size=5),\n",
       " Row(total_bill=27.05, tip=5.0, sex='Female', smoker='No', day='Thur', time='Lunch', size=6),\n",
       " Row(total_bill=16.43, tip=2.3, sex='Female', smoker='No', day='Thur', time='Lunch', size=2),\n",
       " Row(total_bill=8.35, tip=1.5, sex='Female', smoker='No', day='Thur', time='Lunch', size=2),\n",
       " Row(total_bill=18.64, tip=1.36, sex='Female', smoker='No', day='Thur', time='Lunch', size=3),\n",
       " Row(total_bill=11.87, tip=1.63, sex='Female', smoker='No', day='Thur', time='Lunch', size=2),\n",
       " Row(total_bill=9.78, tip=1.73, sex='Male', smoker='No', day='Thur', time='Lunch', size=2),\n",
       " Row(total_bill=7.51, tip=2.0, sex='Male', smoker='No', day='Thur', time='Lunch', size=2),\n",
       " Row(total_bill=14.07, tip=2.5, sex='Male', smoker='No', day='Sun', time='Dinner', size=2),\n",
       " Row(total_bill=13.13, tip=2.0, sex='Male', smoker='No', day='Sun', time='Dinner', size=2),\n",
       " Row(total_bill=17.26, tip=2.74, sex='Male', smoker='No', day='Sun', time='Dinner', size=3),\n",
       " Row(total_bill=24.55, tip=2.0, sex='Male', smoker='No', day='Sun', time='Dinner', size=4),\n",
       " Row(total_bill=19.77, tip=2.0, sex='Male', smoker='No', day='Sun', time='Dinner', size=4),\n",
       " Row(total_bill=29.85, tip=5.14, sex='Female', smoker='No', day='Sun', time='Dinner', size=5),\n",
       " Row(total_bill=48.17, tip=5.0, sex='Male', smoker='No', day='Sun', time='Dinner', size=6),\n",
       " Row(total_bill=25.0, tip=3.75, sex='Female', smoker='No', day='Sun', time='Dinner', size=4),\n",
       " Row(total_bill=13.39, tip=2.61, sex='Female', smoker='No', day='Sun', time='Dinner', size=2),\n",
       " Row(total_bill=16.49, tip=2.0, sex='Male', smoker='No', day='Sun', time='Dinner', size=4),\n",
       " Row(total_bill=21.5, tip=3.5, sex='Male', smoker='No', day='Sun', time='Dinner', size=4),\n",
       " Row(total_bill=12.66, tip=2.5, sex='Male', smoker='No', day='Sun', time='Dinner', size=2),\n",
       " Row(total_bill=16.21, tip=2.0, sex='Female', smoker='No', day='Sun', time='Dinner', size=3),\n",
       " Row(total_bill=13.81, tip=2.0, sex='Male', smoker='No', day='Sun', time='Dinner', size=2),\n",
       " Row(total_bill=17.51, tip=3.0, sex='Female', smoker='Yes', day='Sun', time='Dinner', size=2),\n",
       " Row(total_bill=24.52, tip=3.48, sex='Male', smoker='No', day='Sun', time='Dinner', size=3),\n",
       " Row(total_bill=20.76, tip=2.24, sex='Male', smoker='No', day='Sun', time='Dinner', size=2),\n",
       " Row(total_bill=31.71, tip=4.5, sex='Male', smoker='No', day='Sun', time='Dinner', size=4),\n",
       " Row(total_bill=10.59, tip=1.61, sex='Female', smoker='Yes', day='Sat', time='Dinner', size=2),\n",
       " Row(total_bill=10.63, tip=2.0, sex='Female', smoker='Yes', day='Sat', time='Dinner', size=2),\n",
       " Row(total_bill=50.81, tip=10.0, sex='Male', smoker='Yes', day='Sat', time='Dinner', size=3),\n",
       " Row(total_bill=15.81, tip=3.16, sex='Male', smoker='Yes', day='Sat', time='Dinner', size=2),\n",
       " Row(total_bill=7.25, tip=5.15, sex='Male', smoker='Yes', day='Sun', time='Dinner', size=2),\n",
       " Row(total_bill=31.85, tip=3.18, sex='Male', smoker='Yes', day='Sun', time='Dinner', size=2),\n",
       " Row(total_bill=16.82, tip=4.0, sex='Male', smoker='Yes', day='Sun', time='Dinner', size=2),\n",
       " Row(total_bill=32.9, tip=3.11, sex='Male', smoker='Yes', day='Sun', time='Dinner', size=2),\n",
       " Row(total_bill=17.89, tip=2.0, sex='Male', smoker='Yes', day='Sun', time='Dinner', size=2),\n",
       " Row(total_bill=14.48, tip=2.0, sex='Male', smoker='Yes', day='Sun', time='Dinner', size=2),\n",
       " Row(total_bill=9.6, tip=4.0, sex='Female', smoker='Yes', day='Sun', time='Dinner', size=2),\n",
       " Row(total_bill=34.63, tip=3.55, sex='Male', smoker='Yes', day='Sun', time='Dinner', size=2),\n",
       " Row(total_bill=34.65, tip=3.68, sex='Male', smoker='Yes', day='Sun', time='Dinner', size=4),\n",
       " Row(total_bill=23.33, tip=5.65, sex='Male', smoker='Yes', day='Sun', time='Dinner', size=2),\n",
       " Row(total_bill=45.35, tip=3.5, sex='Male', smoker='Yes', day='Sun', time='Dinner', size=3),\n",
       " Row(total_bill=23.17, tip=6.5, sex='Male', smoker='Yes', day='Sun', time='Dinner', size=4),\n",
       " Row(total_bill=40.55, tip=3.0, sex='Male', smoker='Yes', day='Sun', time='Dinner', size=2),\n",
       " Row(total_bill=20.69, tip=5.0, sex='Male', smoker='No', day='Sun', time='Dinner', size=5),\n",
       " Row(total_bill=20.9, tip=3.5, sex='Female', smoker='Yes', day='Sun', time='Dinner', size=3),\n",
       " Row(total_bill=30.46, tip=2.0, sex='Male', smoker='Yes', day='Sun', time='Dinner', size=5),\n",
       " Row(total_bill=18.15, tip=3.5, sex='Female', smoker='Yes', day='Sun', time='Dinner', size=3),\n",
       " Row(total_bill=23.1, tip=4.0, sex='Male', smoker='Yes', day='Sun', time='Dinner', size=3),\n",
       " Row(total_bill=15.69, tip=1.5, sex='Male', smoker='Yes', day='Sun', time='Dinner', size=2),\n",
       " Row(total_bill=19.81, tip=4.19, sex='Female', smoker='Yes', day='Thur', time='Lunch', size=2),\n",
       " Row(total_bill=28.44, tip=2.56, sex='Male', smoker='Yes', day='Thur', time='Lunch', size=2),\n",
       " Row(total_bill=15.48, tip=2.02, sex='Male', smoker='Yes', day='Thur', time='Lunch', size=2),\n",
       " Row(total_bill=16.58, tip=4.0, sex='Male', smoker='Yes', day='Thur', time='Lunch', size=2),\n",
       " Row(total_bill=7.56, tip=1.44, sex='Male', smoker='No', day='Thur', time='Lunch', size=2),\n",
       " Row(total_bill=10.34, tip=2.0, sex='Male', smoker='Yes', day='Thur', time='Lunch', size=2),\n",
       " Row(total_bill=43.11, tip=5.0, sex='Female', smoker='Yes', day='Thur', time='Lunch', size=4),\n",
       " Row(total_bill=13.0, tip=2.0, sex='Female', smoker='Yes', day='Thur', time='Lunch', size=2),\n",
       " Row(total_bill=13.51, tip=2.0, sex='Male', smoker='Yes', day='Thur', time='Lunch', size=2),\n",
       " Row(total_bill=18.71, tip=4.0, sex='Male', smoker='Yes', day='Thur', time='Lunch', size=3),\n",
       " Row(total_bill=12.74, tip=2.01, sex='Female', smoker='Yes', day='Thur', time='Lunch', size=2),\n",
       " Row(total_bill=13.0, tip=2.0, sex='Female', smoker='Yes', day='Thur', time='Lunch', size=2),\n",
       " Row(total_bill=16.4, tip=2.5, sex='Female', smoker='Yes', day='Thur', time='Lunch', size=2),\n",
       " Row(total_bill=20.53, tip=4.0, sex='Male', smoker='Yes', day='Thur', time='Lunch', size=4),\n",
       " Row(total_bill=16.47, tip=3.23, sex='Female', smoker='Yes', day='Thur', time='Lunch', size=3),\n",
       " Row(total_bill=26.59, tip=3.41, sex='Male', smoker='Yes', day='Sat', time='Dinner', size=3),\n",
       " Row(total_bill=38.73, tip=3.0, sex='Male', smoker='Yes', day='Sat', time='Dinner', size=4),\n",
       " Row(total_bill=24.27, tip=2.03, sex='Male', smoker='Yes', day='Sat', time='Dinner', size=2),\n",
       " Row(total_bill=12.76, tip=2.23, sex='Female', smoker='Yes', day='Sat', time='Dinner', size=2),\n",
       " Row(total_bill=30.06, tip=2.0, sex='Male', smoker='Yes', day='Sat', time='Dinner', size=3),\n",
       " Row(total_bill=25.89, tip=5.16, sex='Male', smoker='Yes', day='Sat', time='Dinner', size=4),\n",
       " Row(total_bill=48.33, tip=9.0, sex='Male', smoker='No', day='Sat', time='Dinner', size=4),\n",
       " Row(total_bill=13.27, tip=2.5, sex='Female', smoker='Yes', day='Sat', time='Dinner', size=2),\n",
       " Row(total_bill=28.17, tip=6.5, sex='Female', smoker='Yes', day='Sat', time='Dinner', size=3),\n",
       " Row(total_bill=12.9, tip=1.1, sex='Female', smoker='Yes', day='Sat', time='Dinner', size=2),\n",
       " Row(total_bill=28.15, tip=3.0, sex='Male', smoker='Yes', day='Sat', time='Dinner', size=5),\n",
       " Row(total_bill=11.59, tip=1.5, sex='Male', smoker='Yes', day='Sat', time='Dinner', size=2),\n",
       " Row(total_bill=7.74, tip=1.44, sex='Male', smoker='Yes', day='Sat', time='Dinner', size=2),\n",
       " Row(total_bill=30.14, tip=3.09, sex='Female', smoker='Yes', day='Sat', time='Dinner', size=4),\n",
       " Row(total_bill=12.16, tip=2.2, sex='Male', smoker='Yes', day='Fri', time='Lunch', size=2),\n",
       " Row(total_bill=13.42, tip=3.48, sex='Female', smoker='Yes', day='Fri', time='Lunch', size=2),\n",
       " Row(total_bill=8.58, tip=1.92, sex='Male', smoker='Yes', day='Fri', time='Lunch', size=1),\n",
       " Row(total_bill=15.98, tip=3.0, sex='Female', smoker='No', day='Fri', time='Lunch', size=3),\n",
       " Row(total_bill=13.42, tip=1.58, sex='Male', smoker='Yes', day='Fri', time='Lunch', size=2),\n",
       " Row(total_bill=16.27, tip=2.5, sex='Female', smoker='Yes', day='Fri', time='Lunch', size=2),\n",
       " Row(total_bill=10.09, tip=2.0, sex='Female', smoker='Yes', day='Fri', time='Lunch', size=2),\n",
       " Row(total_bill=20.45, tip=3.0, sex='Male', smoker='No', day='Sat', time='Dinner', size=4),\n",
       " Row(total_bill=13.28, tip=2.72, sex='Male', smoker='No', day='Sat', time='Dinner', size=2),\n",
       " Row(total_bill=22.12, tip=2.88, sex='Female', smoker='Yes', day='Sat', time='Dinner', size=2),\n",
       " Row(total_bill=24.01, tip=2.0, sex='Male', smoker='Yes', day='Sat', time='Dinner', size=4),\n",
       " Row(total_bill=15.69, tip=3.0, sex='Male', smoker='Yes', day='Sat', time='Dinner', size=3),\n",
       " Row(total_bill=11.61, tip=3.39, sex='Male', smoker='No', day='Sat', time='Dinner', size=2),\n",
       " Row(total_bill=10.77, tip=1.47, sex='Male', smoker='No', day='Sat', time='Dinner', size=2),\n",
       " Row(total_bill=15.53, tip=3.0, sex='Male', smoker='Yes', day='Sat', time='Dinner', size=2),\n",
       " Row(total_bill=10.07, tip=1.25, sex='Male', smoker='No', day='Sat', time='Dinner', size=2),\n",
       " Row(total_bill=12.6, tip=1.0, sex='Male', smoker='Yes', day='Sat', time='Dinner', size=2),\n",
       " Row(total_bill=32.83, tip=1.17, sex='Male', smoker='Yes', day='Sat', time='Dinner', size=2),\n",
       " Row(total_bill=35.83, tip=4.67, sex='Female', smoker='No', day='Sat', time='Dinner', size=3),\n",
       " Row(total_bill=29.03, tip=5.92, sex='Male', smoker='No', day='Sat', time='Dinner', size=3),\n",
       " Row(total_bill=27.18, tip=2.0, sex='Female', smoker='Yes', day='Sat', time='Dinner', size=2),\n",
       " Row(total_bill=22.67, tip=2.0, sex='Male', smoker='Yes', day='Sat', time='Dinner', size=2),\n",
       " Row(total_bill=17.82, tip=1.75, sex='Male', smoker='No', day='Sat', time='Dinner', size=2),\n",
       " Row(total_bill=18.78, tip=3.0, sex='Female', smoker='No', day='Thur', time='Dinner', size=2)]"
      ]
     },
     "execution_count": 83,
     "metadata": {},
     "output_type": "execute_result"
    }
   ],
   "source": [
    "df_pyspark.collect()"
   ]
  },
  {
   "cell_type": "markdown",
   "id": "956e547c",
   "metadata": {},
   "source": [
    "### Check number of categories for categorical data"
   ]
  },
  {
   "cell_type": "code",
   "execution_count": 84,
   "id": "4ef903c7",
   "metadata": {},
   "outputs": [
    {
     "data": {
      "text/plain": [
       "2"
      ]
     },
     "execution_count": 84,
     "metadata": {},
     "output_type": "execute_result"
    }
   ],
   "source": [
    "df_pyspark.select(\"time\").distinct().count()"
   ]
  },
  {
   "cell_type": "markdown",
   "id": "4a3d949f",
   "metadata": {},
   "source": [
    "### Check total number of rows"
   ]
  },
  {
   "cell_type": "code",
   "execution_count": 85,
   "id": "02944c18",
   "metadata": {},
   "outputs": [
    {
     "data": {
      "text/plain": [
       "244"
      ]
     },
     "execution_count": 85,
     "metadata": {},
     "output_type": "execute_result"
    }
   ],
   "source": [
    "df_pyspark.count()"
   ]
  },
  {
   "cell_type": "markdown",
   "id": "a067b8cb",
   "metadata": {},
   "source": [
    "### Filter in pySpark"
   ]
  },
  {
   "cell_type": "code",
   "execution_count": 86,
   "id": "3277ab5b",
   "metadata": {},
   "outputs": [
    {
     "name": "stdout",
     "output_type": "stream",
     "text": [
      "+----------+----+------+------+----+------+----+\n",
      "|total_bill| tip|   sex|smoker| day|  time|size|\n",
      "+----------+----+------+------+----+------+----+\n",
      "|     38.01| 3.0|  Male|   Yes| Sat|Dinner|   4|\n",
      "|     18.29|3.76|  Male|   Yes| Sat|Dinner|   4|\n",
      "|     40.17|4.73|  Male|   Yes| Fri|Dinner|   4|\n",
      "|      44.3| 2.5|Female|   Yes| Sat|Dinner|   3|\n",
      "|     50.81|10.0|  Male|   Yes| Sat|Dinner|   3|\n",
      "|     34.65|3.68|  Male|   Yes| Sun|Dinner|   4|\n",
      "|     45.35| 3.5|  Male|   Yes| Sun|Dinner|   3|\n",
      "|     23.17| 6.5|  Male|   Yes| Sun|Dinner|   4|\n",
      "|      20.9| 3.5|Female|   Yes| Sun|Dinner|   3|\n",
      "|     30.46| 2.0|  Male|   Yes| Sun|Dinner|   5|\n",
      "|     18.15| 3.5|Female|   Yes| Sun|Dinner|   3|\n",
      "|      23.1| 4.0|  Male|   Yes| Sun|Dinner|   3|\n",
      "|     43.11| 5.0|Female|   Yes|Thur| Lunch|   4|\n",
      "|     18.71| 4.0|  Male|   Yes|Thur| Lunch|   3|\n",
      "|     20.53| 4.0|  Male|   Yes|Thur| Lunch|   4|\n",
      "|     16.47|3.23|Female|   Yes|Thur| Lunch|   3|\n",
      "|     26.59|3.41|  Male|   Yes| Sat|Dinner|   3|\n",
      "|     38.73| 3.0|  Male|   Yes| Sat|Dinner|   4|\n",
      "|     30.06| 2.0|  Male|   Yes| Sat|Dinner|   3|\n",
      "|     25.89|5.16|  Male|   Yes| Sat|Dinner|   4|\n",
      "+----------+----+------+------+----+------+----+\n",
      "only showing top 20 rows\n",
      "\n"
     ]
    }
   ],
   "source": [
    "df_pyspark.filter((df_pyspark.smoker == 'Yes') & (df_pyspark.size > 2)).show()"
   ]
  },
  {
   "cell_type": "code",
   "execution_count": 87,
   "id": "2633e2b4",
   "metadata": {},
   "outputs": [
    {
     "name": "stdout",
     "output_type": "stream",
     "text": [
      "+----------+----+------+------+----+------+----+\n",
      "|total_bill| tip|   sex|smoker| day|  time|size|\n",
      "+----------+----+------+------+----+------+----+\n",
      "|     38.01| 3.0|  Male|   Yes| Sat|Dinner|   4|\n",
      "|     18.29|3.76|  Male|   Yes| Sat|Dinner|   4|\n",
      "|     40.17|4.73|  Male|   Yes| Fri|Dinner|   4|\n",
      "|      44.3| 2.5|Female|   Yes| Sat|Dinner|   3|\n",
      "|     50.81|10.0|  Male|   Yes| Sat|Dinner|   3|\n",
      "|     34.65|3.68|  Male|   Yes| Sun|Dinner|   4|\n",
      "|     45.35| 3.5|  Male|   Yes| Sun|Dinner|   3|\n",
      "|     23.17| 6.5|  Male|   Yes| Sun|Dinner|   4|\n",
      "|      20.9| 3.5|Female|   Yes| Sun|Dinner|   3|\n",
      "|     30.46| 2.0|  Male|   Yes| Sun|Dinner|   5|\n",
      "|     18.15| 3.5|Female|   Yes| Sun|Dinner|   3|\n",
      "|      23.1| 4.0|  Male|   Yes| Sun|Dinner|   3|\n",
      "|     43.11| 5.0|Female|   Yes|Thur| Lunch|   4|\n",
      "|     18.71| 4.0|  Male|   Yes|Thur| Lunch|   3|\n",
      "|     20.53| 4.0|  Male|   Yes|Thur| Lunch|   4|\n",
      "|     16.47|3.23|Female|   Yes|Thur| Lunch|   3|\n",
      "|     26.59|3.41|  Male|   Yes| Sat|Dinner|   3|\n",
      "|     38.73| 3.0|  Male|   Yes| Sat|Dinner|   4|\n",
      "|     30.06| 2.0|  Male|   Yes| Sat|Dinner|   3|\n",
      "|     25.89|5.16|  Male|   Yes| Sat|Dinner|   4|\n",
      "+----------+----+------+------+----+------+----+\n",
      "only showing top 20 rows\n",
      "\n"
     ]
    }
   ],
   "source": [
    "df_pyspark.filter(\"smoker == 'Yes' AND size > 2\").show()"
   ]
  },
  {
   "cell_type": "code",
   "execution_count": 88,
   "id": "06fe484d",
   "metadata": {},
   "outputs": [
    {
     "name": "stdout",
     "output_type": "stream",
     "text": [
      "+----------+----+------+------+---+------+----+\n",
      "|total_bill| tip|   sex|smoker|day|  time|size|\n",
      "+----------+----+------+------+---+------+----+\n",
      "|     10.34|1.66|  Male|    No|Sun|Dinner|   3|\n",
      "|     21.01| 3.5|  Male|    No|Sun|Dinner|   3|\n",
      "|     24.59|3.61|Female|    No|Sun|Dinner|   4|\n",
      "|     25.29|4.71|  Male|    No|Sun|Dinner|   4|\n",
      "|     26.88|3.12|  Male|    No|Sun|Dinner|   4|\n",
      "|     35.26| 5.0|Female|    No|Sun|Dinner|   4|\n",
      "|     18.43| 3.0|  Male|    No|Sun|Dinner|   4|\n",
      "|     10.33|1.67|Female|    No|Sun|Dinner|   3|\n",
      "|     16.29|3.71|  Male|    No|Sun|Dinner|   3|\n",
      "|     16.97| 3.5|Female|    No|Sun|Dinner|   3|\n",
      "|     20.65|3.35|  Male|    No|Sat|Dinner|   3|\n",
      "|     39.42|7.58|  Male|    No|Sat|Dinner|   4|\n",
      "|     17.81|2.34|  Male|    No|Sat|Dinner|   4|\n",
      "|     18.35| 2.5|  Male|    No|Sat|Dinner|   4|\n",
      "|     20.69|2.45|Female|    No|Sat|Dinner|   4|\n",
      "|     24.06| 3.6|  Male|    No|Sat|Dinner|   3|\n",
      "|     16.31| 2.0|  Male|    No|Sat|Dinner|   3|\n",
      "|     16.93|3.07|Female|    No|Sat|Dinner|   3|\n",
      "|     18.69|2.31|  Male|    No|Sat|Dinner|   3|\n",
      "|     31.27| 5.0|  Male|    No|Sat|Dinner|   3|\n",
      "+----------+----+------+------+---+------+----+\n",
      "only showing top 20 rows\n",
      "\n"
     ]
    }
   ],
   "source": [
    "df_pyspark.filter(\"day LIKE 'S%' AND size > 2\").show()"
   ]
  },
  {
   "cell_type": "code",
   "execution_count": 89,
   "id": "4cd2bbe5",
   "metadata": {},
   "outputs": [
    {
     "name": "stdout",
     "output_type": "stream",
     "text": [
      "+----------+----+------+------+---+------+----+\n",
      "|total_bill| tip|   sex|smoker|day|  time|size|\n",
      "+----------+----+------+------+---+------+----+\n",
      "|     16.99|1.01|Female|    No|Sun|Dinner|   2|\n",
      "|     10.34|1.66|  Male|    No|Sun|Dinner|   3|\n",
      "|     21.01| 3.5|  Male|    No|Sun|Dinner|   3|\n",
      "|     23.68|3.31|  Male|    No|Sun|Dinner|   2|\n",
      "|     24.59|3.61|Female|    No|Sun|Dinner|   4|\n",
      "|     25.29|4.71|  Male|    No|Sun|Dinner|   4|\n",
      "|      8.77| 2.0|  Male|    No|Sun|Dinner|   2|\n",
      "|     26.88|3.12|  Male|    No|Sun|Dinner|   4|\n",
      "|     15.04|1.96|  Male|    No|Sun|Dinner|   2|\n",
      "|     14.78|3.23|  Male|    No|Sun|Dinner|   2|\n",
      "|     10.27|1.71|  Male|    No|Sun|Dinner|   2|\n",
      "|     35.26| 5.0|Female|    No|Sun|Dinner|   4|\n",
      "|     15.42|1.57|  Male|    No|Sun|Dinner|   2|\n",
      "|     18.43| 3.0|  Male|    No|Sun|Dinner|   4|\n",
      "|     14.83|3.02|Female|    No|Sun|Dinner|   2|\n",
      "|     21.58|3.92|  Male|    No|Sun|Dinner|   2|\n",
      "|     10.33|1.67|Female|    No|Sun|Dinner|   3|\n",
      "|     16.29|3.71|  Male|    No|Sun|Dinner|   3|\n",
      "|     16.97| 3.5|Female|    No|Sun|Dinner|   3|\n",
      "|     20.65|3.35|  Male|    No|Sat|Dinner|   3|\n",
      "+----------+----+------+------+---+------+----+\n",
      "only showing top 20 rows\n",
      "\n"
     ]
    }
   ],
   "source": [
    "df_pyspark.filter(df_pyspark.day.startswith('S')).show()"
   ]
  },
  {
   "cell_type": "code",
   "execution_count": 90,
   "id": "3bf1bf03",
   "metadata": {},
   "outputs": [
    {
     "name": "stdout",
     "output_type": "stream",
     "text": [
      "+----------+----+------+------+---+------+----+\n",
      "|total_bill| tip|   sex|smoker|day|  time|size|\n",
      "+----------+----+------+------+---+------+----+\n",
      "|     16.99|1.01|Female|    No|Sun|Dinner|   2|\n",
      "+----------+----+------+------+---+------+----+\n",
      "\n"
     ]
    }
   ],
   "source": [
    "df_pyspark.filter(df_pyspark.total_bill.endswith('99')).show()"
   ]
  },
  {
   "cell_type": "code",
   "execution_count": 91,
   "id": "95a7f505",
   "metadata": {},
   "outputs": [
    {
     "name": "stdout",
     "output_type": "stream",
     "text": [
      "+----------+----+------+------+---+------+----+\n",
      "|total_bill| tip|   sex|smoker|day|  time|size|\n",
      "+----------+----+------+------+---+------+----+\n",
      "|     16.99|1.01|Female|    No|Sun|Dinner|   2|\n",
      "|     23.68|3.31|  Male|    No|Sun|Dinner|   2|\n",
      "|      8.77| 2.0|  Male|    No|Sun|Dinner|   2|\n",
      "|     15.04|1.96|  Male|    No|Sun|Dinner|   2|\n",
      "|     14.78|3.23|  Male|    No|Sun|Dinner|   2|\n",
      "|     10.27|1.71|  Male|    No|Sun|Dinner|   2|\n",
      "|     15.42|1.57|  Male|    No|Sun|Dinner|   2|\n",
      "|     14.83|3.02|Female|    No|Sun|Dinner|   2|\n",
      "|     21.58|3.92|  Male|    No|Sun|Dinner|   2|\n",
      "|     17.92|4.08|  Male|    No|Sat|Dinner|   2|\n",
      "|     20.29|2.75|Female|    No|Sat|Dinner|   2|\n",
      "|     15.77|2.23|Female|    No|Sat|Dinner|   2|\n",
      "|     19.82|3.18|  Male|    No|Sat|Dinner|   2|\n",
      "|     13.37| 2.0|  Male|    No|Sat|Dinner|   2|\n",
      "|     12.69| 2.0|  Male|    No|Sat|Dinner|   2|\n",
      "|      21.7| 4.3|  Male|    No|Sat|Dinner|   2|\n",
      "|     19.65| 3.0|Female|    No|Sat|Dinner|   2|\n",
      "|      9.55|1.45|  Male|    No|Sat|Dinner|   2|\n",
      "|     15.06| 3.0|Female|    No|Sat|Dinner|   2|\n",
      "|     17.78|3.27|  Male|    No|Sat|Dinner|   2|\n",
      "+----------+----+------+------+---+------+----+\n",
      "only showing top 20 rows\n",
      "\n"
     ]
    }
   ],
   "source": [
    "size_list = [1, 2]\n",
    "df_pyspark.filter(df_pyspark.size.isin(size_list)).show()"
   ]
  },
  {
   "cell_type": "code",
   "execution_count": 92,
   "id": "d3bf4fc6",
   "metadata": {},
   "outputs": [
    {
     "name": "stdout",
     "output_type": "stream",
     "text": [
      "+----------+----+------+------+---+------+----+\n",
      "|total_bill| tip|   sex|smoker|day|  time|size|\n",
      "+----------+----+------+------+---+------+----+\n",
      "|     20.65|3.35|  Male|    No|Sat|Dinner|   3|\n",
      "|     17.92|4.08|  Male|    No|Sat|Dinner|   2|\n",
      "|     20.29|2.75|Female|    No|Sat|Dinner|   2|\n",
      "|     15.77|2.23|Female|    No|Sat|Dinner|   2|\n",
      "|     39.42|7.58|  Male|    No|Sat|Dinner|   4|\n",
      "|     19.82|3.18|  Male|    No|Sat|Dinner|   2|\n",
      "|     17.81|2.34|  Male|    No|Sat|Dinner|   4|\n",
      "|     13.37| 2.0|  Male|    No|Sat|Dinner|   2|\n",
      "|     12.69| 2.0|  Male|    No|Sat|Dinner|   2|\n",
      "|      21.7| 4.3|  Male|    No|Sat|Dinner|   2|\n",
      "|     19.65| 3.0|Female|    No|Sat|Dinner|   2|\n",
      "|      9.55|1.45|  Male|    No|Sat|Dinner|   2|\n",
      "|     18.35| 2.5|  Male|    No|Sat|Dinner|   4|\n",
      "|     15.06| 3.0|Female|    No|Sat|Dinner|   2|\n",
      "|     20.69|2.45|Female|    No|Sat|Dinner|   4|\n",
      "|     17.78|3.27|  Male|    No|Sat|Dinner|   2|\n",
      "|     24.06| 3.6|  Male|    No|Sat|Dinner|   3|\n",
      "|     16.31| 2.0|  Male|    No|Sat|Dinner|   3|\n",
      "|     16.93|3.07|Female|    No|Sat|Dinner|   3|\n",
      "|     18.69|2.31|  Male|    No|Sat|Dinner|   3|\n",
      "+----------+----+------+------+---+------+----+\n",
      "only showing top 20 rows\n",
      "\n"
     ]
    }
   ],
   "source": [
    "df_pyspark.filter(~df_pyspark.day.like(\"%un\")).show()"
   ]
  },
  {
   "cell_type": "markdown",
   "id": "9727da13",
   "metadata": {},
   "source": [
    "It is also possible to use rlike, when you want to use regrex"
   ]
  },
  {
   "cell_type": "markdown",
   "id": "4f5565b4",
   "metadata": {},
   "source": [
    "### Showing columns by index, showing top rows"
   ]
  },
  {
   "cell_type": "code",
   "execution_count": 93,
   "id": "93ee7a4f",
   "metadata": {},
   "outputs": [
    {
     "name": "stdout",
     "output_type": "stream",
     "text": [
      "+----------+----+------+\n",
      "|total_bill| tip|   sex|\n",
      "+----------+----+------+\n",
      "|     16.99|1.01|Female|\n",
      "|     10.34|1.66|  Male|\n",
      "|     21.01| 3.5|  Male|\n",
      "+----------+----+------+\n",
      "only showing top 3 rows\n",
      "\n"
     ]
    }
   ],
   "source": [
    "df_pyspark.select(df_pyspark.columns[:3]).show(3)"
   ]
  },
  {
   "cell_type": "markdown",
   "id": "33d6ead5",
   "metadata": {},
   "source": [
    "### Calculated columns"
   ]
  },
  {
   "cell_type": "code",
   "execution_count": 94,
   "id": "4119e283",
   "metadata": {},
   "outputs": [],
   "source": [
    "from pyspark.sql.functions import col\n",
    "df_pyspark_3 = df_pyspark.withColumn(\"Tip & Bill\", col(\"total_bill\") + col(\"tip\"))"
   ]
  },
  {
   "cell_type": "code",
   "execution_count": 95,
   "id": "23cf7e1e",
   "metadata": {},
   "outputs": [
    {
     "name": "stdout",
     "output_type": "stream",
     "text": [
      "+----------+----+------+------+---+------+----+------------------+\n",
      "|total_bill| tip|   sex|smoker|day|  time|size|        Tip & Bill|\n",
      "+----------+----+------+------+---+------+----+------------------+\n",
      "|     16.99|1.01|Female|    No|Sun|Dinner|   2|              18.0|\n",
      "|     10.34|1.66|  Male|    No|Sun|Dinner|   3|              12.0|\n",
      "|     21.01| 3.5|  Male|    No|Sun|Dinner|   3|             24.51|\n",
      "|     23.68|3.31|  Male|    No|Sun|Dinner|   2|             26.99|\n",
      "|     24.59|3.61|Female|    No|Sun|Dinner|   4|              28.2|\n",
      "|     25.29|4.71|  Male|    No|Sun|Dinner|   4|              30.0|\n",
      "|      8.77| 2.0|  Male|    No|Sun|Dinner|   2|             10.77|\n",
      "|     26.88|3.12|  Male|    No|Sun|Dinner|   4|              30.0|\n",
      "|     15.04|1.96|  Male|    No|Sun|Dinner|   2|              17.0|\n",
      "|     14.78|3.23|  Male|    No|Sun|Dinner|   2|18.009999999999998|\n",
      "|     10.27|1.71|  Male|    No|Sun|Dinner|   2|             11.98|\n",
      "|     35.26| 5.0|Female|    No|Sun|Dinner|   4|             40.26|\n",
      "|     15.42|1.57|  Male|    No|Sun|Dinner|   2|             16.99|\n",
      "|     18.43| 3.0|  Male|    No|Sun|Dinner|   4|             21.43|\n",
      "|     14.83|3.02|Female|    No|Sun|Dinner|   2|             17.85|\n",
      "|     21.58|3.92|  Male|    No|Sun|Dinner|   2|              25.5|\n",
      "|     10.33|1.67|Female|    No|Sun|Dinner|   3|              12.0|\n",
      "|     16.29|3.71|  Male|    No|Sun|Dinner|   3|              20.0|\n",
      "|     16.97| 3.5|Female|    No|Sun|Dinner|   3|             20.47|\n",
      "|     20.65|3.35|  Male|    No|Sat|Dinner|   3|              24.0|\n",
      "+----------+----+------+------+---+------+----+------------------+\n",
      "only showing top 20 rows\n",
      "\n"
     ]
    }
   ],
   "source": [
    "df_pyspark_3.show()"
   ]
  },
  {
   "cell_type": "markdown",
   "id": "4d8cda9f",
   "metadata": {},
   "source": [
    "### Rename column"
   ]
  },
  {
   "cell_type": "code",
   "execution_count": 96,
   "id": "65e9bf03",
   "metadata": {},
   "outputs": [
    {
     "name": "stdout",
     "output_type": "stream",
     "text": [
      "+----------+----+------+------+---+------+----+------------------+\n",
      "|total_bill| tip|gender|smoker|day|  time|size|        Tip & Bill|\n",
      "+----------+----+------+------+---+------+----+------------------+\n",
      "|     16.99|1.01|Female|    No|Sun|Dinner|   2|              18.0|\n",
      "|     10.34|1.66|  Male|    No|Sun|Dinner|   3|              12.0|\n",
      "|     21.01| 3.5|  Male|    No|Sun|Dinner|   3|             24.51|\n",
      "|     23.68|3.31|  Male|    No|Sun|Dinner|   2|             26.99|\n",
      "|     24.59|3.61|Female|    No|Sun|Dinner|   4|              28.2|\n",
      "|     25.29|4.71|  Male|    No|Sun|Dinner|   4|              30.0|\n",
      "|      8.77| 2.0|  Male|    No|Sun|Dinner|   2|             10.77|\n",
      "|     26.88|3.12|  Male|    No|Sun|Dinner|   4|              30.0|\n",
      "|     15.04|1.96|  Male|    No|Sun|Dinner|   2|              17.0|\n",
      "|     14.78|3.23|  Male|    No|Sun|Dinner|   2|18.009999999999998|\n",
      "|     10.27|1.71|  Male|    No|Sun|Dinner|   2|             11.98|\n",
      "|     35.26| 5.0|Female|    No|Sun|Dinner|   4|             40.26|\n",
      "|     15.42|1.57|  Male|    No|Sun|Dinner|   2|             16.99|\n",
      "|     18.43| 3.0|  Male|    No|Sun|Dinner|   4|             21.43|\n",
      "|     14.83|3.02|Female|    No|Sun|Dinner|   2|             17.85|\n",
      "|     21.58|3.92|  Male|    No|Sun|Dinner|   2|              25.5|\n",
      "|     10.33|1.67|Female|    No|Sun|Dinner|   3|              12.0|\n",
      "|     16.29|3.71|  Male|    No|Sun|Dinner|   3|              20.0|\n",
      "|     16.97| 3.5|Female|    No|Sun|Dinner|   3|             20.47|\n",
      "|     20.65|3.35|  Male|    No|Sat|Dinner|   3|              24.0|\n",
      "+----------+----+------+------+---+------+----+------------------+\n",
      "only showing top 20 rows\n",
      "\n"
     ]
    }
   ],
   "source": [
    "df_pyspark_2 = df_pyspark.withColumnRenamed(\"sex\", \"gender\")\n",
    "df_pyspark_2.show()"
   ]
  },
  {
   "cell_type": "code",
   "execution_count": 101,
   "id": "e509c240",
   "metadata": {},
   "outputs": [
    {
     "name": "stdout",
     "output_type": "stream",
     "text": [
      "+---+----+\n",
      "|  s|   t|\n",
      "+---+----+\n",
      "| No|1.01|\n",
      "| No|1.66|\n",
      "| No| 3.5|\n",
      "| No|3.31|\n",
      "| No|3.61|\n",
      "| No|4.71|\n",
      "| No| 2.0|\n",
      "| No|3.12|\n",
      "| No|1.96|\n",
      "| No|3.23|\n",
      "| No|1.71|\n",
      "| No| 5.0|\n",
      "| No|1.57|\n",
      "| No| 3.0|\n",
      "| No|3.02|\n",
      "| No|3.92|\n",
      "| No|1.67|\n",
      "| No|3.71|\n",
      "| No| 3.5|\n",
      "| No|3.35|\n",
      "+---+----+\n",
      "only showing top 20 rows\n",
      "\n"
     ]
    }
   ],
   "source": [
    "df_pyspark_4 = df_pyspark.select(col(\"smoker\").alias(\"s\"), col(\"tip\").alias(\"t\"))\n",
    "df_pyspark_4.show()"
   ]
  },
  {
   "cell_type": "markdown",
   "id": "8d414698",
   "metadata": {},
   "source": [
    "### Drop column"
   ]
  },
  {
   "cell_type": "code",
   "execution_count": 97,
   "id": "a0d43d96",
   "metadata": {},
   "outputs": [
    {
     "name": "stdout",
     "output_type": "stream",
     "text": [
      "+----------+----+------+---+------+----+------------------+\n",
      "|total_bill| tip|smoker|day|  time|size|        Tip & Bill|\n",
      "+----------+----+------+---+------+----+------------------+\n",
      "|     16.99|1.01|    No|Sun|Dinner|   2|              18.0|\n",
      "|     10.34|1.66|    No|Sun|Dinner|   3|              12.0|\n",
      "|     21.01| 3.5|    No|Sun|Dinner|   3|             24.51|\n",
      "|     23.68|3.31|    No|Sun|Dinner|   2|             26.99|\n",
      "|     24.59|3.61|    No|Sun|Dinner|   4|              28.2|\n",
      "|     25.29|4.71|    No|Sun|Dinner|   4|              30.0|\n",
      "|      8.77| 2.0|    No|Sun|Dinner|   2|             10.77|\n",
      "|     26.88|3.12|    No|Sun|Dinner|   4|              30.0|\n",
      "|     15.04|1.96|    No|Sun|Dinner|   2|              17.0|\n",
      "|     14.78|3.23|    No|Sun|Dinner|   2|18.009999999999998|\n",
      "|     10.27|1.71|    No|Sun|Dinner|   2|             11.98|\n",
      "|     35.26| 5.0|    No|Sun|Dinner|   4|             40.26|\n",
      "|     15.42|1.57|    No|Sun|Dinner|   2|             16.99|\n",
      "|     18.43| 3.0|    No|Sun|Dinner|   4|             21.43|\n",
      "|     14.83|3.02|    No|Sun|Dinner|   2|             17.85|\n",
      "|     21.58|3.92|    No|Sun|Dinner|   2|              25.5|\n",
      "|     10.33|1.67|    No|Sun|Dinner|   3|              12.0|\n",
      "|     16.29|3.71|    No|Sun|Dinner|   3|              20.0|\n",
      "|     16.97| 3.5|    No|Sun|Dinner|   3|             20.47|\n",
      "|     20.65|3.35|    No|Sat|Dinner|   3|              24.0|\n",
      "+----------+----+------+---+------+----+------------------+\n",
      "only showing top 20 rows\n",
      "\n"
     ]
    }
   ],
   "source": [
    "df_pyspark_1 = df_pyspark.drop(\"gender\")\n",
    "df_pyspark_1.show()"
   ]
  },
  {
   "cell_type": "code",
   "execution_count": null,
   "id": "e1d70471",
   "metadata": {},
   "outputs": [],
   "source": []
  }
 ],
 "metadata": {
  "kernelspec": {
   "display_name": "Python 3 (ipykernel)",
   "language": "python",
   "name": "python3"
  },
  "language_info": {
   "codemirror_mode": {
    "name": "ipython",
    "version": 3
   },
   "file_extension": ".py",
   "mimetype": "text/x-python",
   "name": "python",
   "nbconvert_exporter": "python",
   "pygments_lexer": "ipython3",
   "version": "3.10.0"
  }
 },
 "nbformat": 4,
 "nbformat_minor": 5
}
